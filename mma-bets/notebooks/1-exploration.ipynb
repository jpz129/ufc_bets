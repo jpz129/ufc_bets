{
 "cells": [
  {
   "cell_type": "code",
   "execution_count": 1,
   "metadata": {
    "collapsed": true
   },
   "outputs": [],
   "source": [
    "import pandas as pd\n",
    "from pathlib import Path"
   ]
  },
  {
   "cell_type": "code",
   "execution_count": 2,
   "outputs": [],
   "source": [
    "data_path = Path().cwd().parent/'data'/'external'/'ufc-master.csv'"
   ],
   "metadata": {
    "collapsed": false,
    "pycharm": {
     "name": "#%%\n"
    }
   }
  },
  {
   "cell_type": "code",
   "execution_count": 3,
   "outputs": [],
   "source": [
    "df = pd.read_csv(data_path)"
   ],
   "metadata": {
    "collapsed": false,
    "pycharm": {
     "name": "#%%\n"
    }
   }
  },
  {
   "cell_type": "code",
   "execution_count": 4,
   "outputs": [],
   "source": [
    "pattern = r'_dif$'\n",
    "df_dif = df.filter(regex=(pattern))"
   ],
   "metadata": {
    "collapsed": false,
    "pycharm": {
     "name": "#%%\n"
    }
   }
  },
  {
   "cell_type": "code",
   "execution_count": 5,
   "outputs": [],
   "source": [
    "pattern = r'^B_'\n",
    "df_b = df.filter(regex=(pattern))"
   ],
   "metadata": {
    "collapsed": false,
    "pycharm": {
     "name": "#%%\n"
    }
   }
  },
  {
   "cell_type": "code",
   "execution_count": 6,
   "outputs": [],
   "source": [
    "pattern = r'^R_'\n",
    "df_r = df.filter(regex=(pattern))"
   ],
   "metadata": {
    "collapsed": false,
    "pycharm": {
     "name": "#%%\n"
    }
   }
  },
  {
   "cell_type": "code",
   "execution_count": 7,
   "outputs": [],
   "source": [
    "other_cols = df_dif.columns.append(df_b.columns).append(df_r.columns)"
   ],
   "metadata": {
    "collapsed": false,
    "pycharm": {
     "name": "#%%\n"
    }
   }
  },
  {
   "cell_type": "code",
   "execution_count": 8,
   "outputs": [],
   "source": [
    "df_info = df.drop(other_cols, axis=1)"
   ],
   "metadata": {
    "collapsed": false,
    "pycharm": {
     "name": "#%%\n"
    }
   }
  },
  {
   "cell_type": "code",
   "execution_count": 9,
   "outputs": [],
   "source": [
    "df2 = pd.concat([df_info, df_dif], axis=1)"
   ],
   "metadata": {
    "collapsed": false,
    "pycharm": {
     "name": "#%%\n"
    }
   }
  },
  {
   "cell_type": "code",
   "execution_count": 11,
   "outputs": [],
   "source": [
    "df3 = pd.concat([\n",
    "    df2,\n",
    "    df_b[['B_fighter', 'B_odds']],\n",
    "    df_r[['R_fighter', 'R_odds']]\n",
    "],\n",
    "    axis=1)"
   ],
   "metadata": {
    "collapsed": false,
    "pycharm": {
     "name": "#%%\n"
    }
   }
  },
  {
   "cell_type": "code",
   "execution_count": 12,
   "outputs": [
    {
     "name": "stdout",
     "output_type": "stream",
     "text": [
      "<class 'pandas.core.frame.DataFrame'>\n",
      "RangeIndex: 4588 entries, 0 to 4587\n",
      "Data columns (total 35 columns):\n",
      " #   Column                  Non-Null Count  Dtype  \n",
      "---  ------                  --------------  -----  \n",
      " 0   date                    4588 non-null   object \n",
      " 1   location                4588 non-null   object \n",
      " 2   country                 4588 non-null   object \n",
      " 3   Winner                  4588 non-null   object \n",
      " 4   title_bout              4588 non-null   bool   \n",
      " 5   weight_class            4588 non-null   object \n",
      " 6   gender                  4588 non-null   object \n",
      " 7   no_of_rounds            4588 non-null   int64  \n",
      " 8   empty_arena             4588 non-null   int64  \n",
      " 9   constant_1              4588 non-null   int64  \n",
      " 10  better_rank             4588 non-null   object \n",
      " 11  finish                  4118 non-null   object \n",
      " 12  finish_details          2014 non-null   object \n",
      " 13  finish_round            4099 non-null   float64\n",
      " 14  finish_round_time       4099 non-null   object \n",
      " 15  total_fight_time_secs   4099 non-null   float64\n",
      " 16  lose_streak_dif         4588 non-null   int64  \n",
      " 17  win_streak_dif          4588 non-null   int64  \n",
      " 18  longest_win_streak_dif  4588 non-null   int64  \n",
      " 19  win_dif                 4588 non-null   int64  \n",
      " 20  loss_dif                4588 non-null   int64  \n",
      " 21  total_round_dif         4588 non-null   int64  \n",
      " 22  total_title_bout_dif    4588 non-null   int64  \n",
      " 23  ko_dif                  4588 non-null   int64  \n",
      " 24  sub_dif                 4588 non-null   int64  \n",
      " 25  height_dif              4588 non-null   float64\n",
      " 26  reach_dif               4588 non-null   float64\n",
      " 27  age_dif                 4588 non-null   int64  \n",
      " 28  sig_str_dif             4588 non-null   float64\n",
      " 29  avg_sub_att_dif         4588 non-null   float64\n",
      " 30  avg_td_dif              4588 non-null   float64\n",
      " 31  B_fighter               4588 non-null   object \n",
      " 32  B_odds                  4587 non-null   float64\n",
      " 33  R_fighter               4588 non-null   object \n",
      " 34  R_odds                  4587 non-null   float64\n",
      "dtypes: bool(1), float64(9), int64(13), object(12)\n",
      "memory usage: 1.2+ MB\n"
     ]
    }
   ],
   "source": [
    "df3.info()\n"
   ],
   "metadata": {
    "collapsed": false,
    "pycharm": {
     "name": "#%%\n"
    }
   }
  },
  {
   "cell_type": "code",
   "execution_count": 13,
   "outputs": [],
   "source": [
    "ufc = df3.drop(['finish_details', 'constant_1'], axis=1)"
   ],
   "metadata": {
    "collapsed": false,
    "pycharm": {
     "name": "#%%\n"
    }
   }
  },
  {
   "cell_type": "code",
   "execution_count": 15,
   "outputs": [],
   "source": [
    "ufc.dropna(inplace=True)"
   ],
   "metadata": {
    "collapsed": false,
    "pycharm": {
     "name": "#%%\n"
    }
   }
  },
  {
   "cell_type": "code",
   "execution_count": 19,
   "outputs": [],
   "source": [
    "# todo: run analysis and EDA for who will win predictions"
   ],
   "metadata": {
    "collapsed": false,
    "pycharm": {
     "name": "#%%\n"
    }
   }
  },
  {
   "cell_type": "code",
   "execution_count": null,
   "outputs": [],
   "source": [],
   "metadata": {
    "collapsed": false,
    "pycharm": {
     "name": "#%%\n"
    }
   }
  }
 ],
 "metadata": {
  "kernelspec": {
   "display_name": "Python 3",
   "language": "python",
   "name": "python3"
  },
  "language_info": {
   "codemirror_mode": {
    "name": "ipython",
    "version": 2
   },
   "file_extension": ".py",
   "mimetype": "text/x-python",
   "name": "python",
   "nbconvert_exporter": "python",
   "pygments_lexer": "ipython2",
   "version": "2.7.6"
  }
 },
 "nbformat": 4,
 "nbformat_minor": 0
}