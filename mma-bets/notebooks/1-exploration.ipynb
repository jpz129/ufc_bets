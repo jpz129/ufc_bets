{
 "cells": [
  {
   "cell_type": "markdown",
   "source": [
    "# UFC Betting\n",
    "\n",
    "## Data Loading and Merging"
   ],
   "metadata": {
    "collapsed": false,
    "pycharm": {
     "name": "#%% md\n"
    }
   }
  },
  {
   "cell_type": "code",
   "execution_count": 1,
   "metadata": {
    "collapsed": true
   },
   "outputs": [],
   "source": [
    "from pathlib import Path\n",
    "\n",
    "import pandas as pd\n",
    "\n",
    "data_path = Path().cwd().parent / 'data' / 'external' / 'ufc-master.csv'\n",
    "\n",
    "df = pd.read_csv(data_path)"
   ]
  },
  {
   "cell_type": "code",
   "execution_count": 2,
   "outputs": [],
   "source": [
    "pattern_dif = r'_dif$'\n",
    "df_dif = df.filter(regex=pattern_dif)\n",
    "\n",
    "pattern_b = r'^B_'\n",
    "df_b = df.filter(regex=pattern_b)\n",
    "\n",
    "pattern_r = r'^R_'\n",
    "df_r = df.filter(regex=pattern_r)"
   ],
   "metadata": {
    "collapsed": false,
    "pycharm": {
     "name": "#%%\n"
    }
   }
  },
  {
   "cell_type": "code",
   "execution_count": 3,
   "outputs": [
    {
     "name": "stdout",
     "output_type": "stream",
     "text": [
      "<class 'pandas.core.frame.DataFrame'>\n",
      "RangeIndex: 4588 entries, 0 to 4587\n",
      "Data columns (total 35 columns):\n",
      " #   Column                  Non-Null Count  Dtype  \n",
      "---  ------                  --------------  -----  \n",
      " 0   date                    4588 non-null   object \n",
      " 1   location                4588 non-null   object \n",
      " 2   country                 4588 non-null   object \n",
      " 3   Winner                  4588 non-null   object \n",
      " 4   title_bout              4588 non-null   bool   \n",
      " 5   weight_class            4588 non-null   object \n",
      " 6   gender                  4588 non-null   object \n",
      " 7   no_of_rounds            4588 non-null   int64  \n",
      " 8   empty_arena             4588 non-null   int64  \n",
      " 9   constant_1              4588 non-null   int64  \n",
      " 10  better_rank             4588 non-null   object \n",
      " 11  finish                  4118 non-null   object \n",
      " 12  finish_details          2014 non-null   object \n",
      " 13  finish_round            4099 non-null   float64\n",
      " 14  finish_round_time       4099 non-null   object \n",
      " 15  total_fight_time_secs   4099 non-null   float64\n",
      " 16  lose_streak_dif         4588 non-null   int64  \n",
      " 17  win_streak_dif          4588 non-null   int64  \n",
      " 18  longest_win_streak_dif  4588 non-null   int64  \n",
      " 19  win_dif                 4588 non-null   int64  \n",
      " 20  loss_dif                4588 non-null   int64  \n",
      " 21  total_round_dif         4588 non-null   int64  \n",
      " 22  total_title_bout_dif    4588 non-null   int64  \n",
      " 23  ko_dif                  4588 non-null   int64  \n",
      " 24  sub_dif                 4588 non-null   int64  \n",
      " 25  height_dif              4588 non-null   float64\n",
      " 26  reach_dif               4588 non-null   float64\n",
      " 27  age_dif                 4588 non-null   int64  \n",
      " 28  sig_str_dif             4588 non-null   float64\n",
      " 29  avg_sub_att_dif         4588 non-null   float64\n",
      " 30  avg_td_dif              4588 non-null   float64\n",
      " 31  B_fighter               4588 non-null   object \n",
      " 32  B_odds                  4587 non-null   float64\n",
      " 33  R_fighter               4588 non-null   object \n",
      " 34  R_odds                  4587 non-null   float64\n",
      "dtypes: bool(1), float64(9), int64(13), object(12)\n",
      "memory usage: 1.2+ MB\n"
     ]
    }
   ],
   "source": [
    "other_cols = df_dif.columns.append(df_b.columns).append(df_r.columns)\n",
    "\n",
    "df_info = df.drop(other_cols, axis=1)\n",
    "\n",
    "df2 = pd.concat([df_info, df_dif], axis=1)\n",
    "\n",
    "df3 = pd.concat([\n",
    "    df2,\n",
    "    df_b[['B_fighter', 'B_odds']],\n",
    "    df_r[['R_fighter', 'R_odds']]\n",
    "],\n",
    "    axis=1)\n",
    "\n",
    "df3.info()\n"
   ],
   "metadata": {
    "collapsed": false,
    "pycharm": {
     "name": "#%%\n"
    }
   }
  },
  {
   "cell_type": "code",
   "execution_count": 4,
   "outputs": [],
   "source": [
    "ufc = df3.drop(['finish_details', 'constant_1'], axis=1)\n",
    "\n",
    "ufc.dropna(inplace=True)"
   ],
   "metadata": {
    "collapsed": false,
    "pycharm": {
     "name": "#%%\n"
    }
   }
  },
  {
   "cell_type": "markdown",
   "source": [
    "----"
   ],
   "metadata": {
    "collapsed": false,
    "pycharm": {
     "name": "#%% md\n"
    }
   }
  },
  {
   "cell_type": "code",
   "execution_count": 5,
   "outputs": [
    {
     "data": {
      "text/plain": "          date                location country Winner  title_bout  \\\n233  8/29/2020  Las Vegas, Nevada, USA     USA   Blue       False   \n234  8/29/2020  Las Vegas, Nevada, USA     USA   Blue       False   \n235  8/29/2020  Las Vegas, Nevada, USA     USA   Blue       False   \n236  8/29/2020  Las Vegas, Nevada, USA     USA    Red       False   \n237  8/29/2020  Las Vegas, Nevada, USA     USA   Blue       False   \n\n          weight_class  gender  no_of_rounds  empty_arena better_rank  ...  \\\n233  Light Heavyweight    MALE             3            1         Red  ...   \n234       Welterweight    MALE             3            1         Red  ...   \n235  Women's Flyweight  FEMALE             3            1        Blue  ...   \n236      Featherweight    MALE             3            1     neither  ...   \n237       Middleweight    MALE             3            1     neither  ...   \n\n    height_dif  reach_dif age_dif  sig_str_dif  avg_sub_att_dif  avg_td_dif  \\\n233       0.00       5.08      -4         1.98             -0.4        0.75   \n234      10.16      15.24      -5         0.38              0.3        1.84   \n235      -5.08     -15.24      -3         0.76              0.6        0.19   \n236      10.16       5.08      -7         6.92             -1.0       -1.63   \n237       2.54       0.00      -3         0.58             -0.6        0.23   \n\n            B_fighter  B_odds      R_fighter  R_odds  \n233  Aleksandar Rakic  -278.0  Anthony Smith   225.0  \n234        Neil Magny  -250.0  Robbie Lawler   200.0  \n235      Alexa Grasso  -315.0    Ji Yeon Kim   230.0  \n236        Bill Algeo   240.0  Ricardo Lamas  -335.0  \n237   Impa Kasanganay  -139.0    Maki Pitolo   115.0  \n\n[5 rows x 33 columns]",
      "text/html": "<div>\n<style scoped>\n    .dataframe tbody tr th:only-of-type {\n        vertical-align: middle;\n    }\n\n    .dataframe tbody tr th {\n        vertical-align: top;\n    }\n\n    .dataframe thead th {\n        text-align: right;\n    }\n</style>\n<table border=\"1\" class=\"dataframe\">\n  <thead>\n    <tr style=\"text-align: right;\">\n      <th></th>\n      <th>date</th>\n      <th>location</th>\n      <th>country</th>\n      <th>Winner</th>\n      <th>title_bout</th>\n      <th>weight_class</th>\n      <th>gender</th>\n      <th>no_of_rounds</th>\n      <th>empty_arena</th>\n      <th>better_rank</th>\n      <th>...</th>\n      <th>height_dif</th>\n      <th>reach_dif</th>\n      <th>age_dif</th>\n      <th>sig_str_dif</th>\n      <th>avg_sub_att_dif</th>\n      <th>avg_td_dif</th>\n      <th>B_fighter</th>\n      <th>B_odds</th>\n      <th>R_fighter</th>\n      <th>R_odds</th>\n    </tr>\n  </thead>\n  <tbody>\n    <tr>\n      <th>233</th>\n      <td>8/29/2020</td>\n      <td>Las Vegas, Nevada, USA</td>\n      <td>USA</td>\n      <td>Blue</td>\n      <td>False</td>\n      <td>Light Heavyweight</td>\n      <td>MALE</td>\n      <td>3</td>\n      <td>1</td>\n      <td>Red</td>\n      <td>...</td>\n      <td>0.00</td>\n      <td>5.08</td>\n      <td>-4</td>\n      <td>1.98</td>\n      <td>-0.4</td>\n      <td>0.75</td>\n      <td>Aleksandar Rakic</td>\n      <td>-278.0</td>\n      <td>Anthony Smith</td>\n      <td>225.0</td>\n    </tr>\n    <tr>\n      <th>234</th>\n      <td>8/29/2020</td>\n      <td>Las Vegas, Nevada, USA</td>\n      <td>USA</td>\n      <td>Blue</td>\n      <td>False</td>\n      <td>Welterweight</td>\n      <td>MALE</td>\n      <td>3</td>\n      <td>1</td>\n      <td>Red</td>\n      <td>...</td>\n      <td>10.16</td>\n      <td>15.24</td>\n      <td>-5</td>\n      <td>0.38</td>\n      <td>0.3</td>\n      <td>1.84</td>\n      <td>Neil Magny</td>\n      <td>-250.0</td>\n      <td>Robbie Lawler</td>\n      <td>200.0</td>\n    </tr>\n    <tr>\n      <th>235</th>\n      <td>8/29/2020</td>\n      <td>Las Vegas, Nevada, USA</td>\n      <td>USA</td>\n      <td>Blue</td>\n      <td>False</td>\n      <td>Women's Flyweight</td>\n      <td>FEMALE</td>\n      <td>3</td>\n      <td>1</td>\n      <td>Blue</td>\n      <td>...</td>\n      <td>-5.08</td>\n      <td>-15.24</td>\n      <td>-3</td>\n      <td>0.76</td>\n      <td>0.6</td>\n      <td>0.19</td>\n      <td>Alexa Grasso</td>\n      <td>-315.0</td>\n      <td>Ji Yeon Kim</td>\n      <td>230.0</td>\n    </tr>\n    <tr>\n      <th>236</th>\n      <td>8/29/2020</td>\n      <td>Las Vegas, Nevada, USA</td>\n      <td>USA</td>\n      <td>Red</td>\n      <td>False</td>\n      <td>Featherweight</td>\n      <td>MALE</td>\n      <td>3</td>\n      <td>1</td>\n      <td>neither</td>\n      <td>...</td>\n      <td>10.16</td>\n      <td>5.08</td>\n      <td>-7</td>\n      <td>6.92</td>\n      <td>-1.0</td>\n      <td>-1.63</td>\n      <td>Bill Algeo</td>\n      <td>240.0</td>\n      <td>Ricardo Lamas</td>\n      <td>-335.0</td>\n    </tr>\n    <tr>\n      <th>237</th>\n      <td>8/29/2020</td>\n      <td>Las Vegas, Nevada, USA</td>\n      <td>USA</td>\n      <td>Blue</td>\n      <td>False</td>\n      <td>Middleweight</td>\n      <td>MALE</td>\n      <td>3</td>\n      <td>1</td>\n      <td>neither</td>\n      <td>...</td>\n      <td>2.54</td>\n      <td>0.00</td>\n      <td>-3</td>\n      <td>0.58</td>\n      <td>-0.6</td>\n      <td>0.23</td>\n      <td>Impa Kasanganay</td>\n      <td>-139.0</td>\n      <td>Maki Pitolo</td>\n      <td>115.0</td>\n    </tr>\n  </tbody>\n</table>\n<p>5 rows × 33 columns</p>\n</div>"
     },
     "execution_count": 5,
     "metadata": {},
     "output_type": "execute_result"
    }
   ],
   "source": [
    "ufc.head()"
   ],
   "metadata": {
    "collapsed": false,
    "pycharm": {
     "name": "#%%\n"
    }
   }
  },
  {
   "cell_type": "markdown",
   "source": [
    "* **Question ->** Who will win the fight?"
   ],
   "metadata": {
    "collapsed": false,
    "pycharm": {
     "name": "#%% md\n"
    }
   }
  },
  {
   "cell_type": "code",
   "execution_count": null,
   "outputs": [],
   "source": [],
   "metadata": {
    "collapsed": false,
    "pycharm": {
     "name": "#%%\n"
    }
   }
  }
 ],
 "metadata": {
  "kernelspec": {
   "name": "pycharm-fa107ede",
   "language": "python",
   "display_name": "PyCharm (ufc_bets)"
  },
  "language_info": {
   "codemirror_mode": {
    "name": "ipython",
    "version": 2
   },
   "file_extension": ".py",
   "mimetype": "text/x-python",
   "name": "python",
   "nbconvert_exporter": "python",
   "pygments_lexer": "ipython2",
   "version": "2.7.6"
  }
 },
 "nbformat": 4,
 "nbformat_minor": 0
}